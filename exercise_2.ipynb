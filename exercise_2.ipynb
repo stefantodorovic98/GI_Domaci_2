{
 "cells": [
  {
   "cell_type": "code",
   "execution_count": 1,
   "id": "ee0ad06a",
   "metadata": {},
   "outputs": [],
   "source": [
    "import pysam"
   ]
  },
  {
   "cell_type": "code",
   "execution_count": 2,
   "id": "35cdde2b",
   "metadata": {
    "scrolled": true
   },
   "outputs": [
    {
     "name": "stdout",
     "output_type": "stream",
     "text": [
      "First read is:\n",
      "C0HVYACXX120402:7:1207:5722:57044\t1187\t#20\t9483249\t27\t76M\t#20\t9483382\t209\tTTTTCAAACAGTATCTATGCCTGCCAAATGTGAACATATAAAAAAAAACCAGAATGTGCCATTCTGATTTAAACTG\tarray('B', [28, 28, 27, 29, 31, 30, 31, 31, 29, 31, 35, 30, 29, 31, 34, 30, 29, 23, 41, 32, 20, 30, 29, 34, 34, 29, 30, 31, 30, 30, 30, 33, 33, 26, 39, 12, 25, 19, 32, 30, 35, 28, 35, 33, 23, 33, 35, 36, 30, 38, 33, 41, 34, 35, 31, 33, 23, 30, 30, 36, 27, 32, 29, 34, 35, 41, 33, 31, 33, 29, 32, 32, 31, 31, 31, 34])\t[('XA', 'GL000217.1,-110754,76M,1;'), ('BD', 'NNNNNNNNNNNNNNNNNNNNNNNNNNNNNNNNNNNNNNNNNNNNNNNNNNNNNNNNNNNNNNNNNNNNNNNNNNNN'), ('MD', '76'), ('RG', '1'), ('BI', 'NNNNNNNNNNNNNNNNNNNNNNNNNNNNNNNNNNNNNNNNNNNNNNNNNNNNNNNNNNNNNNNNNNNNNNNNNNNN'), ('NM', 0), ('MQ', 27), ('AS', 76), ('XS', 71)]\n"
     ]
    }
   ],
   "source": [
    "#First read\n",
    "\n",
    "samfile = pysam.AlignmentFile(\"merged-tumor.bam\", \"rb\")\n",
    "for x in samfile:\n",
    "    print(\"First read is:\")\n",
    "    print(x)\n",
    "    break\n",
    "samfile.close()\n",
    "\n",
    "#First read has flag 1187\n",
    "# read paired (0x1)\n",
    "# read mapped in proper pair (0x2)\n",
    "# mate reverse strand (0x20)\n",
    "# second in pair (0x80)\n",
    "# read is PCR or optical duplicate (0x400)"
   ]
  },
  {
   "cell_type": "code",
   "execution_count": 3,
   "id": "80fb2636",
   "metadata": {},
   "outputs": [
    {
     "name": "stdout",
     "output_type": "stream",
     "text": [
      "Flag for some reads\n",
      "1187\n",
      "163\n",
      "99\n",
      "99\n",
      "99\n",
      "163\n",
      "99\n",
      "1123\n",
      "99\n",
      "1123\n"
     ]
    }
   ],
   "source": [
    "samfile = pysam.AlignmentFile(\"merged-tumor.bam\", \"rb\")\n",
    "i = 0\n",
    "print(\"Flag for some reads\")\n",
    "for x in samfile:\n",
    "    print(x.flag)\n",
    "    i += 1\n",
    "    if i == 10:\n",
    "        break\n",
    "samfile.close()\n",
    "\n",
    "#2 reads have flag 163\n",
    "# read paired (0x1)\n",
    "# read mapped in proper pair (0x2)\n",
    "# mate reverse strand (0x20)\n",
    "# second in pair (0x80)\n",
    "\n",
    "#5 reads have flag 99\n",
    "# read paired (0x1)\n",
    "# read mapped in proper pair (0x2)\n",
    "# mate reverse strand (0x20)\n",
    "# first in pair (0x40)\n",
    "\n",
    "#2 reads have flag 1123\n",
    "# read paired (0x1)\n",
    "# read mapped in proper pair (0x2)\n",
    "# mate reverse strand (0x20)\n",
    "# first in pair (0x40)\n",
    "# read is PCR or optical duplicate (0x400)"
   ]
  },
  {
   "cell_type": "code",
   "execution_count": 4,
   "id": "ea518c2d",
   "metadata": {},
   "outputs": [
    {
     "name": "stdout",
     "output_type": "stream",
     "text": [
      "Number of unmapped reads:17765\n"
     ]
    }
   ],
   "source": [
    "#Unmapped reads\n",
    "samfile = pysam.AlignmentFile(\"merged-tumor.bam\", \"rb\")\n",
    "i = 0\n",
    "for x in samfile:\n",
    "    if x.is_unmapped:\n",
    "        i += 1\n",
    "print(\"Number of unmapped reads:\" + str(i))\n",
    "samfile.close()"
   ]
  },
  {
   "cell_type": "code",
   "execution_count": 5,
   "id": "ef68668a",
   "metadata": {},
   "outputs": [
    {
     "name": "stdout",
     "output_type": "stream",
     "text": [
      "Ukupan broj read-ova je:2921629\n",
      "Broj read-ova sa mapping quality 0 je:126628\n",
      "Prosecan mapping quality za sve read-ove je:55.91379158681681\n",
      "Prosecan mapping quality ako su filtrirani read-ovi sa mapping quality 0 je:58.446975510921106\n"
     ]
    }
   ],
   "source": [
    "#Racunanje\n",
    "\n",
    "samfile = pysam.AlignmentFile(\"merged-tumor.bam\", \"rb\")\n",
    "\n",
    "s = 0\n",
    "i = 0\n",
    "j = 0\n",
    "k = 0\n",
    "for x in samfile:\n",
    "    s += int(x.mapping_quality)\n",
    "    i += 1\n",
    "    if x.mapping_quality != 0:\n",
    "        j += 1\n",
    "\n",
    "avgAll = s / i\n",
    "avgNotAll = s / j\n",
    "\n",
    "readsMQ0 = i - j\n",
    "\n",
    "print(\"Total number of reads:\" + str(i))\n",
    "print(\"Number of reads with mapping quality 0:\" + str(readsMQ0))\n",
    "print(\"Average mapping quality for all the reads:\" + str(avgAll))\n",
    "print(\"Average mapping quality if reads with 0 mapp quality are filtered out:\" + str(avgNotAll))\n",
    "\n",
    "samfile.close()"
   ]
  },
  {
   "cell_type": "code",
   "execution_count": null,
   "id": "a0eca868",
   "metadata": {},
   "outputs": [],
   "source": []
  }
 ],
 "metadata": {
  "kernelspec": {
   "display_name": "Python 3 (ipykernel)",
   "language": "python",
   "name": "python3"
  },
  "language_info": {
   "codemirror_mode": {
    "name": "ipython",
    "version": 3
   },
   "file_extension": ".py",
   "mimetype": "text/x-python",
   "name": "python",
   "nbconvert_exporter": "python",
   "pygments_lexer": "ipython3",
   "version": "3.10.6"
  }
 },
 "nbformat": 4,
 "nbformat_minor": 5
}
